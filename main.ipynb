{
 "cells": [
  {
   "cell_type": "code",
   "execution_count": null,
   "id": "3ad1459f",
   "metadata": {},
   "outputs": [],
   "source": [
    "from dotenv import load_dotenv\n",
    "import os\n",
    "import re\n",
    "import os\n",
    "import pandas as pd\n",
    "import numpy as np\n",
    "from groq import Groq\n",
    "from stockfish import Stockfish"
   ]
  },
  {
   "cell_type": "code",
   "execution_count": null,
   "id": "97c58140",
   "metadata": {},
   "outputs": [],
   "source": [
    "load_dotenv()  # Load variables from .env\n",
    "STOCKFISH_PATH=os.environ.get(\"STOCKFISH_PATH\")\n",
    "LLAMA_MODEL_PATH=os.environ.get(\"LLAMA_MODEL_PATH\")"
   ]
  },
  {
   "cell_type": "code",
   "execution_count": null,
   "id": "97649270",
   "metadata": {},
   "outputs": [],
   "source": [
    "def clean(response):\n",
    "    response=re.sub(r'<think>.*?</think>','',response,flags=re.DOTALL)\n",
    "    return response"
   ]
  },
  {
   "cell_type": "code",
   "execution_count": null,
   "id": "c282fd0c",
   "metadata": {},
   "outputs": [],
   "source": [
    "stockfish = Stockfish(STOCKFISH_PATH)\n",
    "def get_best_move(fen):\n",
    "    stockfish.set_fen_position(fen)\n",
    "    return stockfish.get_best_move()"
   ]
  },
  {
   "cell_type": "code",
   "execution_count": null,
   "id": "d5b21b07",
   "metadata": {},
   "outputs": [],
   "source": [
    "client = Groq(\n",
    "    api_key=os.environ.get(\"GROQ_API_KEY\"),\n",
    ")\n",
    "def chat_complete(fen,best_move,type_of_move):\n",
    "    chat_completion = client.chat.completions.create(\n",
    "        messages=[\n",
    "            {\n",
    "                \"role\": \"system\",\n",
    "                \"content\": \"You are a chess coach , explain it well as if you thought of the move and try to focus more on the move and why it is the best move, be extremely nice to the student\",\n",
    "            },\n",
    "            {\n",
    "                \"role\": \"user\",\n",
    "                \"content\": f\"Justify why {type_of_move} {best_move} is the best move for the FEN {fen}\",\n",
    "            }\n",
    "        ],\n",
    "        model=\"deepseek-r1-distill-llama-70b\",\n",
    "    )\n",
    "\n",
    "    return clean(chat_completion.choices[0].message.content)"
   ]
  },
  {
   "cell_type": "code",
   "execution_count": null,
   "id": "8f2761d7",
   "metadata": {},
   "outputs": [],
   "source": [
    "def bm_w_exp():\n",
    "    fen = input(\"You : \")\n",
    "    best_move = get_best_move(fen)\n",
    "    g = str(stockfish.will_move_be_a_capture(best_move)).split(\".\")[1]\n",
    "    if g==\"NO_CAPTURE\":\n",
    "        g=False\n",
    "    else:\n",
    "        g=True\n",
    "    p1_split = str(stockfish.get_what_is_on_square(best_move[:2])).split(\".\")\n",
    "    p2_split = str(stockfish.get_what_is_on_square(best_move[2:])).split(\".\")\n",
    "    p1 = p1_split[1] if len(p1_split) > 1 else p1_split[0]\n",
    "    p2 = p2_split[1] if len(p2_split) > 1 else p2_split[0]\n",
    "    if g:\n",
    "        type_of_move = f\"Capturing the {p2} with {p1}\"\n",
    "    elif \"e8g8\" in best_move and \"KING\" in p1:\n",
    "        type_of_move = f\"Castling with the {p1}\"\n",
    "    elif \"e8b8\" in best_move and \"KING\" in p1:\n",
    "        type_of_move = f\"Castling with the {p1}\"\n",
    "    elif \"e1g1\" in best_move and \"KING\" in p1:\n",
    "        type_of_move = f\"Castling with the {p1}\"\n",
    "    elif \"e1b1\" in best_move and \"KING\" in p1:\n",
    "        type_of_move = f\"Castling with the {p1}\"\n",
    "    else:\n",
    "        type_of_move = \"Move\"\n",
    "    print(\"Bot : \", chat_complete(fen, best_move, type_of_move))"
   ]
  },
  {
   "cell_type": "code",
   "execution_count": null,
   "id": "fa265867",
   "metadata": {},
   "outputs": [],
   "source": []
  }
 ],
 "metadata": {
  "kernelspec": {
   "display_name": "BasicChatgpt",
   "language": "python",
   "name": "python3"
  },
  "language_info": {
   "codemirror_mode": {
    "name": "ipython",
    "version": 3
   },
   "file_extension": ".py",
   "mimetype": "text/x-python",
   "name": "python",
   "nbconvert_exporter": "python",
   "pygments_lexer": "ipython3",
   "version": "3.9.21"
  }
 },
 "nbformat": 4,
 "nbformat_minor": 5
}
