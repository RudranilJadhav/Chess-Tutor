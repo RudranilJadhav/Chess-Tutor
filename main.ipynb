{
 "cells": [
  {
   "cell_type": "code",
   "execution_count": 1,
   "id": "3ad1459f",
   "metadata": {},
   "outputs": [],
   "source": [
    "from dotenv import load_dotenv\n",
    "import os\n",
    "import re\n",
    "import os\n",
    "import pandas as pd\n",
    "import numpy as np\n",
    "from groq import Groq\n",
    "from stockfish import Stockfish"
   ]
  },
  {
   "cell_type": "code",
   "execution_count": 2,
   "id": "97c58140",
   "metadata": {},
   "outputs": [],
   "source": [
    "load_dotenv()  # Load variables from .env\n",
    "STOCKFISH_PATH=os.environ.get(\"STOCKFISH_PATH\")\n",
    "LLAMA_MODEL_PATH=os.environ.get(\"LLAMA_MODEL_PATH\")\n",
    "client = Groq(\n",
    "    api_key=os.environ.get(\"GROQ_API_KEY\"),\n",
    ")\n",
    "stockfish = Stockfish(STOCKFISH_PATH,depth=45,parameters={\"Threads\": 20,\"Minimum Thinking Time\": 80})\n",
    "d1=pd.read_csv('theory/a.tsv', sep='\\t', header=0)\n",
    "d2=pd.read_csv('theory/b.tsv', sep='\\t', header=0)\n",
    "d3=pd.read_csv('theory/c.tsv', sep='\\t', header=0)\n",
    "d4=pd.read_csv('theory/d.tsv', sep='\\t', header=0)\n",
    "d5=pd.read_csv('theory/e.tsv', sep='\\t', header=0)"
   ]
  },
  {
   "cell_type": "code",
   "execution_count": 3,
   "id": "97649270",
   "metadata": {},
   "outputs": [],
   "source": [
    "def clean(response):\n",
    "    response=re.sub(r'<think>.*?</think>','',response,flags=re.DOTALL)\n",
    "    return response"
   ]
  },
  {
   "cell_type": "code",
   "execution_count": 4,
   "id": "c282fd0c",
   "metadata": {},
   "outputs": [],
   "source": [
    "def get_best_move(fen):\n",
    "    stockfish.set_fen_position(fen)\n",
    "    return stockfish.get_best_move()"
   ]
  },
  {
   "cell_type": "code",
   "execution_count": 20,
   "id": "d5b21b07",
   "metadata": {},
   "outputs": [],
   "source": [
    "def ch_comp_bm_w_exp(fen,best_move,type_of_move,evaluation):\n",
    "    chat_completion = client.chat.completions.create(\n",
    "        messages=[\n",
    "            {\n",
    "                \"role\": \"system\",\n",
    "                \"content\": \"You are a top-tier chess coach with deep strategic and tactical mastery. Your task is to recommend the best move with absolute clarity, using proper chess notation and piece names. Justify the move with precise reasoning—covering positional, tactical, and strategic factors. Highlight threats, weaknesses, and long-term plans. Keep explanations concise, potent, and highly structured to maximize the user's chess understanding.\",\n",
    "            },\n",
    "            {\n",
    "                \"role\": \"user\",\n",
    "                \"content\": f\"Justify why {type_of_move} {best_move} is the best move for the FEN {fen} with an evaluation of {evaluation}\",\n",
    "            }\n",
    "        ],\n",
    "        model=\"deepseek-r1-distill-llama-70b\",\n",
    "    )\n",
    "\n",
    "    return clean(chat_completion.choices[0].message.content)"
   ]
  },
  {
   "cell_type": "code",
   "execution_count": 6,
   "id": "3b582c60",
   "metadata": {},
   "outputs": [],
   "source": [
    "def ch_comp_th(eco,name,pgn):\n",
    "    chat_completion = client.chat.completions.create(\n",
    "        messages=[\n",
    "            {\n",
    "                \"role\": \"system\",\n",
    "                \"content\": f\"You are a chess coach , explain a theory behind the opening of the move with the name {name} ,ECO {eco} and the PGN {pgn} , please tell ALL THE pros and cons of the opening . All the variations and how to play against them.\",\n",
    "            },\n",
    "            {\n",
    "                \"role\": \"user\",\n",
    "                \"content\": f\"Explain the pros and cons and how to play against the best variations of the opening of the name {name} ,ECO {eco} and the PGN {pgn}\",\n",
    "            }\n",
    "        ],\n",
    "        model=\"deepseek-r1-distill-llama-70b\",\n",
    "    )\n",
    "\n",
    "    return clean(chat_completion.choices[0].message.content)"
   ]
  },
  {
   "cell_type": "code",
   "execution_count": 13,
   "id": "ee5d9aed",
   "metadata": {},
   "outputs": [],
   "source": [
    "def find(theory):\n",
    "    for x in range(0,len(d1[\"name\"])):\n",
    "        if d1[\"name\"][x].lower()==theory.lower():\n",
    "            return d1['eco'][x],d1['name'][x],d1['pgn'][x]\n",
    "    for x in range(0,len(d2[\"name\"])):\n",
    "        if d2[\"name\"][x].lower()==theory.lower():\n",
    "            return d2['eco'][x],d2['name'][x],d2['pgn'][x]\n",
    "    for x in range(0,len(d3[\"name\"])):\n",
    "        if d3[\"name\"][x].lower()==theory.lower():\n",
    "            return d3['eco'][x],d3['name'][x],d3['pgn'][x]\n",
    "    for x in range(0,len(d4[\"name\"])):\n",
    "        if d4[\"name\"][x].lower()==theory.lower():\n",
    "            return d4['eco'][x],d4['name'][x],d4['pgn'][x]\n",
    "    for x in range(0,len(d5[\"name\"])):\n",
    "        if d5[\"name\"][x].lower()==theory.lower():\n",
    "            return d5['eco'][x],d5['name'][x],d5['pgn'][x]"
   ]
  },
  {
   "cell_type": "code",
   "execution_count": 8,
   "id": "8409e25a",
   "metadata": {},
   "outputs": [],
   "source": [
    "def th_w_exp():\n",
    "    theory=input(\"You : \")\n",
    "    eco,name,pgn=find(theory)\n",
    "    return ch_comp_th(eco,name,pgn)"
   ]
  },
  {
   "cell_type": "code",
   "execution_count": null,
   "id": "269a18d1",
   "metadata": {},
   "outputs": [],
   "source": [
    "from math import ceil\n",
    "\n",
    "def get_eval(fen):\n",
    "    stockfish.set_fen_position(fen)\n",
    "    x=stockfish.get_evaluation()\n",
    "    if x[\"type\"]==\"mate\":\n",
    "        return f\"Mate in {x['value']}\"\n",
    "    else:\n",
    "        return f\"{round((int(x['value'])**0.5) / 10.0, 1)} pawn advantage for {'white' if x['value'] > 0 else 'black'}\""
   ]
  },
  {
   "cell_type": "code",
   "execution_count": 18,
   "id": "8f2761d7",
   "metadata": {},
   "outputs": [],
   "source": [
    "def bm_w_exp():\n",
    "    fen = input(\"You : \")\n",
    "    best_move = get_best_move(fen)\n",
    "    g = str(stockfish.will_move_be_a_capture(best_move)).split(\".\")[1]\n",
    "    if g==\"NO_CAPTURE\":\n",
    "        g=False\n",
    "    else:\n",
    "        g=True\n",
    "    evaluation=get_eval(fen)\n",
    "    p1_split = str(stockfish.get_what_is_on_square(best_move[:2])).split(\".\")\n",
    "    p2_split = str(stockfish.get_what_is_on_square(best_move[2:])).split(\".\")\n",
    "    p1 = p1_split[1] if len(p1_split) > 1 else p1_split[0]\n",
    "    p2 = p2_split[1] if len(p2_split) > 1 else p2_split[0]\n",
    "    if g:\n",
    "        type_of_move = f\"Capturing the {p2} with {p1}\"\n",
    "    elif \"e8g8\" in best_move and \"KING\" in p1:\n",
    "        type_of_move = f\"Castling with the {p1}\"\n",
    "    elif \"e8b8\" in best_move and \"KING\" in p1:\n",
    "        type_of_move = f\"Castling with the {p1}\"\n",
    "    elif \"e1g1\" in best_move and \"KING\" in p1:\n",
    "        type_of_move = f\"Castling with the {p1}\"\n",
    "    elif \"e1b1\" in best_move and \"KING\" in p1:\n",
    "        type_of_move = f\"Castling with the {p1}\"\n",
    "    else:\n",
    "        type_of_move = \"Move\"\n",
    "    print(\"Bot : \", ch_comp_bm_w_exp(fen, best_move, type_of_move,evaluation))"
   ]
  },
  {
   "cell_type": "code",
   "execution_count": 21,
   "id": "02ec4685",
   "metadata": {},
   "outputs": [
    {
     "name": "stdout",
     "output_type": "stream",
     "text": [
      "Bot :  \n",
      "\n",
      "The move Bg5e7 is the optimal choice in this position for several strategic and tactical reasons:\n",
      "\n",
      "1. **Tactical Advantage**: Capturing the black knight on e7 removes a key defender, weakening Black's position and potentially exposing their king to attack.\n",
      "\n",
      "2. **Initiation of Forced Mate**: The move begins a forced checkmate sequence, leading to mate in seven moves. This indicates a decisive and overwhelming attack following the capture.\n",
      "\n",
      "3. **Positional Gain**: The bishop on e7 influences central squares, supporting potential attacks and creating threats that Black cannot easily counter.\n",
      "\n",
      "4. **Protection and Support**: After the capture, the bishop is supported by other White pieces, ensuring its safety and enhancing the attack.\n",
      "\n",
      "5. **Strategic Opening**: The move opens lines for White's queen, rooks, and bishops to coordinate in a decisive attack, overwhelming Black's defenses.\n",
      "\n",
      "In conclusion, Bg5e7 is the best move as it initiates a forced mate, removes a defender, and strategically positions the bishop to support a decisive attack.\n"
     ]
    }
   ],
   "source": [
    "bm_w_exp()"
   ]
  },
  {
   "cell_type": "code",
   "execution_count": null,
   "id": "687a2f71",
   "metadata": {},
   "outputs": [],
   "source": []
  }
 ],
 "metadata": {
  "kernelspec": {
   "display_name": "BasicChatgpt",
   "language": "python",
   "name": "python3"
  },
  "language_info": {
   "codemirror_mode": {
    "name": "ipython",
    "version": 3
   },
   "file_extension": ".py",
   "mimetype": "text/x-python",
   "name": "python",
   "nbconvert_exporter": "python",
   "pygments_lexer": "ipython3",
   "version": "3.9.21"
  }
 },
 "nbformat": 4,
 "nbformat_minor": 5
}
