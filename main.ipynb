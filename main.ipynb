{
 "cells": [
  {
   "cell_type": "code",
   "execution_count": null,
   "id": "3ad1459f",
   "metadata": {},
   "outputs": [],
   "source": [
    "from dotenv import load_dotenv\n",
    "import os\n",
    "import re\n",
    "import os\n",
    "import pandas as pd\n",
    "import numpy as np\n",
    "from groq import Groq\n",
    "from stockfish import Stockfish"
   ]
  },
  {
   "cell_type": "code",
   "execution_count": null,
   "id": "97c58140",
   "metadata": {},
   "outputs": [],
   "source": [
    "load_dotenv()  # Load variables from .env\n",
    "STOCKFISH_PATH=os.environ.get(\"STOCKFISH_PATH\")\n",
    "LLAMA_MODEL_PATH=os.environ.get(\"LLAMA_MODEL_PATH\")\n",
    "client = Groq(\n",
    "    api_key=os.environ.get(\"GROQ_API_KEY\"),\n",
    ")\n",
    "stockfish = Stockfish(STOCKFISH_PATH,depth=20,parameters={\"Threads\": 10,\"Minimum Thinking Time\": 50})\n",
    "d1=pd.read_csv('theory/a.tsv', sep='\\t', header=0)\n",
    "d2=pd.read_csv('theory/b.tsv', sep='\\t', header=0)\n",
    "d3=pd.read_csv('theory/c.tsv', sep='\\t', header=0)\n",
    "d4=pd.read_csv('theory/d.tsv', sep='\\t', header=0)\n",
    "d5=pd.read_csv('theory/e.tsv', sep='\\t', header=0)"
   ]
  },
  {
   "cell_type": "code",
   "execution_count": null,
   "id": "97649270",
   "metadata": {},
   "outputs": [],
   "source": [
    "def clean(response):\n",
    "    response=re.sub(r'<think>.*?</think>','',response,flags=re.DOTALL)\n",
    "    return response"
   ]
  },
  {
   "cell_type": "code",
   "execution_count": null,
   "id": "c282fd0c",
   "metadata": {},
   "outputs": [],
   "source": [
    "def get_best_move(fen):\n",
    "    stockfish.set_fen_position(fen)\n",
    "    return stockfish.get_best_move()"
   ]
  },
  {
   "cell_type": "code",
   "execution_count": null,
   "id": "d5b21b07",
   "metadata": {},
   "outputs": [],
   "source": [
    "def ch_comp_bm_w_exp(fen,best_move,type_of_move):\n",
    "    chat_completion = client.chat.completions.create(\n",
    "        messages=[\n",
    "            {\n",
    "                \"role\": \"system\",\n",
    "                \"content\": \"You are a chess coach , explain it well as if you thought of the move and try to focus more on the move and why it is the best move, be extremely nice to the student\",\n",
    "            },\n",
    "            {\n",
    "                \"role\": \"user\",\n",
    "                \"content\": f\"Justify why {type_of_move} {best_move} is the best move for the FEN {fen}\",\n",
    "            }\n",
    "        ],\n",
    "        model=\"deepseek-r1-distill-llama-70b\",\n",
    "    )\n",
    "\n",
    "    return clean(chat_completion.choices[0].message.content)"
   ]
  },
  {
   "cell_type": "code",
   "execution_count": 40,
   "id": "3b582c60",
   "metadata": {},
   "outputs": [],
   "source": [
    "def ch_comp_th(eco,name,pgn):\n",
    "    chat_completion = client.chat.completions.create(\n",
    "        messages=[\n",
    "            {\n",
    "                \"role\": \"system\",\n",
    "                \"content\": f\"You are a chess coach , explain a theory behind the opening of the move with the name {name} ,ECO {eco} and the PGN {pgn} , please tell ALL THE pros and cons of the opening . All the variations and how to play against them.\",\n",
    "            },\n",
    "            {\n",
    "                \"role\": \"user\",\n",
    "                \"content\": f\"Explain the pros and cons and how to play against the best variations of the opening of the name {name} ,ECO {eco} and the PGN {pgn}\",\n",
    "            }\n",
    "        ],\n",
    "        model=\"deepseek-r1-distill-llama-70b\",\n",
    "    )\n",
    "\n",
    "    return clean(chat_completion.choices[0].message.content)"
   ]
  },
  {
   "cell_type": "code",
   "execution_count": 42,
   "id": "ee5d9aed",
   "metadata": {},
   "outputs": [],
   "source": [
    "def find(theory):\n",
    "    for x in range(0,len(d1[\"name\"])):\n",
    "        if d1[\"name\"][x].lower()==theory.lower():\n",
    "            return d1['eco'][x],d1['name'][x],d1['pgn'][x]\n",
    "    for x in range(0,len(d2[\"name\"])):\n",
    "        if d2[\"name\"][x].lower()==theory.lower():\n",
    "            return d2['eco'][x],d2['name'][x],d2['pgn'][x]\n",
    "    for x in range(0,len(d3[\"name\"])):\n",
    "        if d3[\"name\"][x].lower()==theory.lower():\n",
    "            return d3['eco'][x],d3['name'][x],d3['pgn'][x]"
   ]
  },
  {
   "cell_type": "code",
   "execution_count": null,
   "id": "8409e25a",
   "metadata": {},
   "outputs": [],
   "source": [
    "def th_w_exp():\n",
    "    theory=input(\"You : \")\n",
    "    eco,name,pgn=find(theory)\n",
    "    return ch_comp_th(eco,name,pgn)"
   ]
  },
  {
   "cell_type": "code",
   "execution_count": null,
   "id": "8f2761d7",
   "metadata": {},
   "outputs": [],
   "source": [
    "def bm_w_exp():\n",
    "    fen = input(\"You : \")\n",
    "    best_move = get_best_move(fen)\n",
    "    g = str(stockfish.will_move_be_a_capture(best_move)).split(\".\")[1]\n",
    "    if g==\"NO_CAPTURE\":\n",
    "        g=False\n",
    "    else:\n",
    "        g=True\n",
    "    p1_split = str(stockfish.get_what_is_on_square(best_move[:2])).split(\".\")\n",
    "    p2_split = str(stockfish.get_what_is_on_square(best_move[2:])).split(\".\")\n",
    "    p1 = p1_split[1] if len(p1_split) > 1 else p1_split[0]\n",
    "    p2 = p2_split[1] if len(p2_split) > 1 else p2_split[0]\n",
    "    if g:\n",
    "        type_of_move = f\"Capturing the {p2} with {p1}\"\n",
    "    elif \"e8g8\" in best_move and \"KING\" in p1:\n",
    "        type_of_move = f\"Castling with the {p1}\"\n",
    "    elif \"e8b8\" in best_move and \"KING\" in p1:\n",
    "        type_of_move = f\"Castling with the {p1}\"\n",
    "    elif \"e1g1\" in best_move and \"KING\" in p1:\n",
    "        type_of_move = f\"Castling with the {p1}\"\n",
    "    elif \"e1b1\" in best_move and \"KING\" in p1:\n",
    "        type_of_move = f\"Castling with the {p1}\"\n",
    "    else:\n",
    "        type_of_move = \"Move\"\n",
    "    print(\"Bot : \", ch_comp_bm_w_exp(fen, best_move, type_of_move))"
   ]
  },
  {
   "cell_type": "code",
   "execution_count": 41,
   "id": "269a18d1",
   "metadata": {},
   "outputs": [
    {
     "name": "stdout",
     "output_type": "stream",
     "text": [
      "\n",
      "\n",
      "The French Defense, starting with 1. e4 e6, is a dynamic and strategic opening that offers both opportunities and challenges for Black. Here's a structured overview of its pros, cons, variations, and strategies:\n",
      "\n",
      "### Pros of the French Defense:\n",
      "1. **Central Challenge**: By playing d5, Black challenges White's central control, potentially weakening White's position.\n",
      "2. **Solid Structure**: The French Defense is known for its resilience, making it difficult for White to break through.\n",
      "3. **Dynamic Positions**: Variations like the Winawer can lead to complex and dynamic positions, offering counterplay on the queenside.\n",
      "\n",
      "### Cons of the French Defense:\n",
      "1. **Passive Position**: After the Exchange Variation, Black may end up with a passive position and an isolated pawn on d5.\n",
      "2. **Cramped Position**: The French can lead to a cramped setup for Black, with potential issues developing the light-squared bishop.\n",
      "\n",
      "### Main Variations:\n",
      "1. **Exchange Variation (3. exd5)**: White gains central control, but Black can equalize with precise play.\n",
      "2. **Advance Variation (3. e5)**: White gains space but weakens f5, leading to potential kingside attacks.\n",
      "3. **Tarrasch Variation (3. Nd2)**: A solid line preparing for a closed center after c5.\n",
      "4. **Winawer Variation (3. Nc3 Bb4)**: Aggressive, leading to sharp positions, especially after a3.\n",
      "5. **Classical Variation (3. Nc3 Nf6 4. e5 Nfd7 5. f4)**: Aggressive, aiming for a kingside attack, with Black responding with c5.\n",
      "\n",
      "### Strategic Considerations:\n",
      "- **White's Approach**: Choose variations based on style—solid (Exchange, Tarrasch) or aggressive (Advance, Winawer, Classical).\n",
      "- **Black's Play**: Understand pawn structures and bishop development, particularly in the Winawer. Be cautious of passive positions in the Exchange.\n",
      "\n",
      "### Conclusion:\n",
      "The French Defense is a versatile opening requiring strategic understanding. It challenges White's center but demands careful handling to avoid passivity. Analyzing master games and endgame structures can deepen mastery of this opening.\n"
     ]
    }
   ],
   "source": [
    "print(th_w_exp())"
   ]
  },
  {
   "cell_type": "code",
   "execution_count": null,
   "id": "02ec4685",
   "metadata": {},
   "outputs": [],
   "source": []
  }
 ],
 "metadata": {
  "kernelspec": {
   "display_name": "BasicChatgpt",
   "language": "python",
   "name": "python3"
  },
  "language_info": {
   "codemirror_mode": {
    "name": "ipython",
    "version": 3
   },
   "file_extension": ".py",
   "mimetype": "text/x-python",
   "name": "python",
   "nbconvert_exporter": "python",
   "pygments_lexer": "ipython3",
   "version": "3.9.21"
  }
 },
 "nbformat": 4,
 "nbformat_minor": 5
}
